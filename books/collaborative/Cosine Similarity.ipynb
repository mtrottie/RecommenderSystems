{
 "cells": [
  {
   "cell_type": "markdown",
   "id": "4755b4e0-5254-4d13-b47b-ba1d04ba9ca1",
   "metadata": {},
   "source": [
    "# Cosine Similarity\n",
    "\n",
    "Cosine similarity measures the similarity between two vectors by calculating the cosine of the angle between them. It provides a value between -1 and 1, where:\n",
    "- 1 means the vectors are identical\n",
    "- 0 means the vectors are perpendicular (completely different)\n",
    "- -1 means the vectors are opposite\n",
    "\n",
    "## Mathematical Definition\n",
    "\n",
    "The cosine similarity between two vectors A and B is calculated as:\n",
    "\n",
    "cos(θ) = (A · B) / (||A|| ||B||)\n",
    "\n",
    "Where:\n",
    "- A · B is the dot product of vectors A and B\n",
    "- ||A|| and ||B|| are the magnitudes (Euclidean norms) of vectors A and B\n",
    "- θ is the angle between vectors A and B\n",
    "\n",
    "## In Terms of Ratings\n",
    "\n",
    "For recommendation systems with user ratings:\n",
    "- Vectors A and B represent ratings for two items\n",
    "- The dot product (A · B) represents the sum of the products of ratings\n",
    "- The magnitudes represent the square root of the sum of squared ratings\n",
    "- Only mutual ratings (where both items have been rated) are considered\n",
    "- Values are typically between 0 and 1 since ratings are usually positive\n",
    "\n",
    "## Key Properties\n",
    "\n",
    "1. Scale Independence: Cosine similarity measures the angle between vectors, not their magnitudes\n",
    "2. Easy to calculate and interpret\n",
    "3. Effective with sparse data (common in recommendation systems)\n",
    "4. Handles the \"ratings scale\" problem where different users may use different rating scales\n",
    "\n",
    "## Example\n",
    "\n",
    "Lets calculate the cosine ratings of 5 users and their ratings of 6 different items so that we can predict the ratings user 3 would give item 1 and 6.\n"
   ]
  },
  {
   "cell_type": "code",
   "execution_count": 78,
   "id": "e0faf754-9474-4c02-aa3c-ca2901c179ec",
   "metadata": {},
   "outputs": [
    {
     "name": "stdout",
     "output_type": "stream",
     "text": [
      "Data table prior to Pearson Correlation Coefficient calculation\n",
      "        item-1  item-2  item-3  item-4  item-5  item-6\n",
      "user-1     7.0     6.0     7.0       4       5     4.0\n",
      "user-2     6.0     7.0     NaN       4       3     4.0\n",
      "user-3     NaN     3.0     3.0       1       1     NaN\n",
      "user-4     1.0     2.0     2.0       3       3     4.0\n",
      "user-5     1.0     NaN     1.0       2       3     3.0\n"
     ]
    }
   ],
   "source": [
    "import pandas as pd\n",
    "import numpy as np\n",
    "import scipy.stats\n",
    "\n",
    "# Ratings of users by products, 5 users 6 products\n",
    "data = {\n",
    "    'item-1': [7, 6, np.nan, 1, 1],\n",
    "    'item-2': [6, 7, 3, 2, np.nan],\n",
    "    'item-3': [7, np.nan, 3, 2, 1],\n",
    "    'item-4': [4, 4, 1, 3, 2],\n",
    "    'item-5': [5, 3, 1, 3, 3],\n",
    "    'item-6': [4, 4, np.nan, 4, 3]\n",
    "}\n",
    "data_frame = pd.DataFrame(data, index=['user-1', 'user-2', 'user-3', 'user-4', 'user-5'])\n",
    "\n",
    "print(\"Data table prior to Pearson Correlation Coefficient calculation\") \n",
    "print(data_frame)"
   ]
  },
  {
   "cell_type": "code",
   "execution_count": 81,
   "id": "6801206f-b5db-4b67-a3f9-412869e1f0e3",
   "metadata": {},
   "outputs": [
    {
     "name": "stdout",
     "output_type": "stream",
     "text": [
      "Cosine similarity matrix\n",
      "          user-1    user-2    user-3    user-4    user-5\n",
      "user-1  1.000000  0.844441  0.776622  0.838615  0.723725\n",
      "user-2  0.844441  1.000000  0.557773  0.774382  0.636469\n",
      "user-3  0.776622  0.557773  1.000000  0.613795  0.365148\n",
      "user-4  0.838615  0.774382  0.613795  1.000000  0.933859\n",
      "user-5  0.723725  0.636469  0.365148  0.933859  1.000000\n"
     ]
    }
   ],
   "source": [
    "from sklearn.metrics.pairwise import cosine_similarity\n",
    "\n",
    "cosine_similarity_raw = pd.DataFrame(cosine_similarity(data_frame.fillna(0)), index=data_frame.index, columns=data_frame.index)\n",
    "print(\"Cosine similarity matrix\")\n",
    "print(f\"{cosine_similarity_raw}\")"
   ]
  },
  {
   "cell_type": "markdown",
   "id": "489997ac-a09e-46a1-822d-3b09de2df7d5",
   "metadata": {},
   "source": [
    "Now with mean centering"
   ]
  },
  {
   "cell_type": "code",
   "execution_count": 82,
   "id": "42d649de-ee5e-4242-b2ab-1b83d3657cb1",
   "metadata": {},
   "outputs": [
    {
     "name": "stdout",
     "output_type": "stream",
     "text": [
      "Mean centered data\n",
      "        item-1  item-2  item-3  item-4  item-5  item-6\n",
      "user-1     1.5     0.5     1.5    -1.5    -0.5    -1.5\n",
      "user-2     1.2     2.2     NaN    -0.8    -1.8    -0.8\n",
      "user-3     NaN     1.0     1.0    -1.0    -1.0     NaN\n",
      "user-4    -1.5    -0.5    -0.5     0.5     0.5     1.5\n",
      "user-5    -1.0     NaN    -1.0     0.0     1.0     1.0\n",
      "Cosine similarity matrix\n",
      "          user-1    user-2    user-3    user-4    user-5\n",
      "user-1  1.000000  0.612094  0.648886 -0.899229 -0.811107\n",
      "user-2  0.612094  1.000000  0.730297 -0.700649 -0.578152\n",
      "user-3  0.648886  0.730297  1.000000 -0.426401 -0.500000\n",
      "user-4 -0.899229 -0.700649 -0.426401  1.000000  0.852803\n",
      "user-5 -0.811107 -0.578152 -0.500000  0.852803  1.000000\n"
     ]
    }
   ],
   "source": [
    "means_data_frame = data_frame.copy().astype(float)\n",
    "user_means = means_data_frame.mean(axis=1)\n",
    "for user in means_data_frame.index:\n",
    "    means_data_frame.loc[user] = means_data_frame.loc[user].subtract(user_means[user])\n",
    "\n",
    "print(\"Mean centered data\")\n",
    "print(f\"{means_data_frame}\")\n",
    "\n",
    "cosine_similarity_mean = pd.DataFrame(cosine_similarity(means_data_frame.fillna(0)), index=data_frame.index, columns=data_frame.index)\n",
    "print(\"Cosine similarity matrix\")\n",
    "print(f\"{cosine_similarity_mean}\")"
   ]
  },
  {
   "cell_type": "markdown",
   "id": "2a8f0447-868c-451e-b10d-562b5225496e",
   "metadata": {},
   "source": [
    "Given this data let's calculate the expected ratings of the items for both the raw and mean centered data."
   ]
  },
  {
   "cell_type": "code",
   "execution_count": 86,
   "id": "63120c9b-680f-456c-9eed-590c455313b1",
   "metadata": {},
   "outputs": [
    {
     "name": "stdout",
     "output_type": "stream",
     "text": [
      "Prediction User 3 Item 1: 6.582002852403109\n",
      "Prediction User 3 Item 6: 4.0\n",
      "Mean Prediction User 3 Item 1: 3.34114572621006\n",
      "Mean Prediction User 3 Item 6: 0.8706599721765269\n"
     ]
    }
   ],
   "source": [
    "prediction_user_3_item_1 = (cosine_similarity_raw.loc['user-3']['user-1'] * data_frame.loc['user-1']['item-1'] + cosine_similarity_raw.loc['user-3']['user-2'] * data_frame.loc['user-2']['item-1']) / (cosine_similarity_raw.loc['user-3']['user-1'] + cosine_similarity_raw.loc['user-3']['user-2'])\n",
    "prediction_user_3_item_6 = (cosine_similarity_raw.loc['user-3']['user-1'] * data_frame.loc['user-1']['item-6'] + cosine_similarity_raw.loc['user-3']['user-2'] * data_frame.loc['user-2']['item-6']) / (cosine_similarity_raw.loc['user-3']['user-1'] + cosine_similarity_raw.loc['user-3']['user-2'])\n",
    "print(f\"Prediction User 3 Item 1: {prediction_user_3_item_1}\")\n",
    "print(f\"Prediction User 3 Item 6: {prediction_user_3_item_6}\")\n",
    "mean_prediction_user_3_item_1 = user_means['user-3'] + (cosine_similarity_mean.loc['user-3']['user-1'] * means_data_frame.loc['user-1']['item-1'] + cosine_similarity_mean.loc['user-3']['user-2'] * means_data_frame.loc['user-2']['item-1']) / (cosine_similarity_mean.loc['user-3']['user-1'] + cosine_similarity_mean.loc['user-3']['user-2'])\n",
    "mean_prediction_user_3_item_6 = user_means['user-3'] + (cosine_similarity_mean.loc['user-3']['user-1'] * means_data_frame.loc['user-1']['item-6'] + cosine_similarity_mean.loc['user-3']['user-2'] * means_data_frame.loc['user-2']['item-6']) / (cosine_similarity_mean.loc['user-3']['user-1'] + cosine_similarity_mean.loc['user-3']['user-2'])\n",
    "print(f\"Mean Prediction User 3 Item 1: {mean_prediction_user_3_item_1}\")\n",
    "print(f\"Mean Prediction User 3 Item 6: {mean_prediction_user_3_item_6}\")"
   ]
  },
  {
   "cell_type": "markdown",
   "id": "6b1c4515-d6ff-41f4-998d-450a887175f4",
   "metadata": {},
   "source": [
    "Now lets calculate item to item similarity for funsies."
   ]
  },
  {
   "cell_type": "code",
   "execution_count": 87,
   "id": "0c2b1950-0117-49c3-b9e4-15e921e40713",
   "metadata": {},
   "outputs": [
    {
     "name": "stdout",
     "output_type": "stream",
     "text": [
      "Cosine similarity matrix\n",
      "          item-1    item-2    item-3    item-4    item-5    item-6\n",
      "item-1  1.000000  0.931378  0.702382  0.901024  0.868869  0.837828\n",
      "item-2  0.931378  1.000000  0.699970  0.908527  0.832531  0.802788\n",
      "item-3  0.702382  0.699970  1.000000  0.724462  0.813373  0.650814\n",
      "item-4  0.901024  0.908527  0.724462  1.000000  0.972130  0.976458\n",
      "item-5  0.868869  0.832531  0.813373  0.972130  1.000000  0.964274\n",
      "item-6  0.837828  0.802788  0.650814  0.976458  0.964274  1.000000\n"
     ]
    }
   ],
   "source": [
    "similarity_matrix = pd.DataFrame(cosine_similarity(data_frame.fillna(0).T), index=data_frame.columns, columns=data_frame.columns)\n",
    "print(\"Cosine similarity matrix\")\n",
    "print(f\"{similarity_matrix}\")"
   ]
  },
  {
   "cell_type": "markdown",
   "id": "15fa9935-9368-4772-965e-94f41ddbf985",
   "metadata": {},
   "source": [
    "Now item to item with mean centering"
   ]
  },
  {
   "cell_type": "code",
   "execution_count": 88,
   "id": "d237eebe-0e80-4b92-b605-e90b403ed857",
   "metadata": {},
   "outputs": [
    {
     "name": "stdout",
     "output_type": "stream",
     "text": [
      "Mean centered data\n",
      "        item-1  item-2  item-3  item-4  item-5  item-6\n",
      "user-1     1.5     0.5     1.5    -1.5    -0.5    -1.5\n",
      "user-2     1.2     2.2     NaN    -0.8    -1.8    -0.8\n",
      "user-3     NaN     1.0     1.0    -1.0    -1.0     NaN\n",
      "user-4    -1.5    -0.5    -0.5     0.5     0.5     1.5\n",
      "user-5    -1.0     NaN    -1.0     0.0     1.0     1.0\n",
      "Cosine similarity matrix\n",
      "          item-1    item-2    item-3    item-4    item-5    item-6\n",
      "item-1  1.000000  0.624131  0.715771 -0.738780 -0.738330 -0.989620\n",
      "item-2  0.624131  1.000000  0.374437 -0.733910 -0.905091 -0.522503\n",
      "item-3  0.715771  0.374437  1.000000 -0.810889 -0.590281 -0.760974\n",
      "item-4 -0.738780 -0.733910 -0.810889  1.000000  0.705671  0.721966\n",
      "item-5 -0.738330 -0.905091 -0.590281  0.705671  1.000000  0.663676\n",
      "item-6 -0.989620 -0.522503 -0.760974  0.721966  0.663676  1.000000\n"
     ]
    }
   ],
   "source": [
    "from sklearn.metrics.pairwise import paired_cosine_distances\n",
    "\n",
    "means_data_frame = data_frame.copy().astype(float)\n",
    "user_means = means_data_frame.mean(axis=1)\n",
    "for user in means_data_frame.index:\n",
    "    means_data_frame.loc[user] = means_data_frame.loc[user].subtract(user_means[user])\n",
    "\n",
    "print(\"Mean centered data\")\n",
    "print(f\"{means_data_frame}\")\n",
    "\n",
    "similarity_matrix = pd.DataFrame(cosine_similarity(means_data_frame.fillna(0).T), index=data_frame.columns, columns=data_frame.columns)\n",
    "print(\"Cosine similarity matrix\")\n",
    "print(f\"{similarity_matrix}\")"
   ]
  }
 ],
 "metadata": {
  "kernelspec": {
   "display_name": "Python 3 (ipykernel)",
   "language": "python",
   "name": "python3"
  },
  "language_info": {
   "codemirror_mode": {
    "name": "ipython",
    "version": 3
   },
   "file_extension": ".py",
   "mimetype": "text/x-python",
   "name": "python",
   "nbconvert_exporter": "python",
   "pygments_lexer": "ipython3",
   "version": "3.13.2"
  }
 },
 "nbformat": 4,
 "nbformat_minor": 5
}
