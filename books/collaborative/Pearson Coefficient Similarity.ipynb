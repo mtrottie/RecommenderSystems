{
 "cells": [
  {
   "cell_type": "markdown",
   "id": "c2275acb-2e8a-401c-ac8a-9c345e1f0d31",
   "metadata": {},
   "source": [
    "## Pearson Correlation Coefficient \n",
    "\n",
    "The Pearson correlation coefficient, often denoted as r, is a statistical measure that quantifies the strength and direction of the linear relationship between two continuous variables. It ranges from -1 to +1, where:\n",
    "\n",
    "- A value of +1 indicates a perfect positive linear correlation\n",
    "- A value of -1 indicates a perfect negative linear correlation\n",
    "- A value of 0 indicates no linear correlation\n",
    "\n",
    "The Pearson correlation coefficient is widely used in statistics to measure the degree of linear dependence between two variables. It's important to note that it only captures linear relationships and may not accurately represent non-linear associations between variables. Let's calculate an example by using some data.\n",
    "\n",
    "The data above represents a group of users and their associated ratings of items. There are 5 users and 6 items. Each item in the data represents the scores of the users 1-5 respectively. Data represented as nan is data we will want to predict using the pearson correlation coefficient! In particular we want to predict the ratings a user-1 will give an item-1 and item-6. We will do this by finding the two closest users that are representative to user 3 and use their raw ratings of the items to predict what user 3 will rate the item. Let's jump into it.\n"
   ]
  },
  {
   "cell_type": "code",
   "execution_count": 97,
   "id": "5c5dc3a3-de61-484a-8f8f-7500cc165b7c",
   "metadata": {},
   "outputs": [
    {
     "name": "stdout",
     "output_type": "stream",
     "text": [
      "Data table prior to Pearson Correlation Coefficient calculation\n",
      "        item-1  item-2  item-3  item-4  item-5  item-6\n",
      "user-1     7.0     6.0     7.0     4.0     5.0     4.0\n",
      "user-2     6.0     7.0     NaN     4.0     3.0     4.0\n",
      "user-3     NaN     3.0     3.0     1.0     1.0     NaN\n",
      "user-4     1.0     2.0     2.0     3.0     3.0     4.0\n",
      "user-5     1.0     NaN     1.0     2.0     3.0     3.0\n"
     ]
    }
   ],
   "source": [
    "import pandas as pd\n",
    "import numpy as np\n",
    "import scipy.stats\n",
    "\n",
    "# Ratings of users by products, 5 users 6 products\n",
    "data = {\n",
    "    'item-1': [7, 6, np.nan, 1, 1],\n",
    "    'item-2': [6, 7, 3, 2, np.nan],\n",
    "    'item-3': [7, np.nan, 3, 2, 1],\n",
    "    'item-4': [4, 4, 1, 3, 2],\n",
    "    'item-5': [5, 3, 1, 3, 3],\n",
    "    'item-6': [4, 4, np.nan, 4, 3]\n",
    "}\n",
    "data_frame = pd.DataFrame(data, index=['user-1', 'user-2', 'user-3', 'user-4', 'user-5']).astype(float)\n",
    "\n",
    "print(\"Data table prior to Pearson Correlation Coefficient calculation\") \n",
    "print(data_frame)"
   ]
  },
  {
   "cell_type": "markdown",
   "id": "c4f79339-ee9c-460d-af8d-d0b33c86e32c",
   "metadata": {},
   "source": [
    "## Calculate the coorelation\n",
    "\n",
    "The coefficient is calculated as the covariance of the two variables divided by the product of their standard deviations:\n",
    "\n",
    "r = cov(X,Y) / (σX * σY)\n",
    "\n",
    "Where:\n",
    "- cov(X,Y) is the covariance between variables X and Y\n",
    "- σX is the standard deviation of X\n",
    "- σY is the standard deviation of Y\n",
    "\n",
    "Alternatively, it can be expressed as:\n",
    "\n",
    "r = Σ((x - μx)(y - μy)) / (n * σx * σy)\n",
    "\n",
    "Where:\n",
    "- x and y are individual sample points\n",
    "- μx and μy are the sample means of X and Y\n",
    "- n is the sample size\n",
    "\n",
    "\n",
    "\n",
    "## Use built in method\n",
    "https://pandas.pydata.org/docs/reference/api/pandas.DataFrame.corr.html\n",
    "\n",
    "* pearson : standard correlation coefficient (default)\n",
    "* kendall : Kendall Tau correlation coefficient\n",
    "* spearman : Spearman rank correlation"
   ]
  },
  {
   "cell_type": "code",
   "execution_count": 104,
   "id": "3e06c6b1-5a96-4090-a670-df2e6829bb9f",
   "metadata": {},
   "outputs": [
    {
     "name": "stdout",
     "output_type": "stream",
     "text": [
      "Pearson coefficients for Users: \n",
      "          user-1    user-2    user-3    user-4    user-5\n",
      "user-1  1.000000  0.723478  0.894427 -0.899229 -0.824226\n",
      "user-2  0.723478  1.000000  0.970725 -0.720577 -0.899229\n",
      "user-3  0.894427  0.970725  1.000000 -1.000000 -0.866025\n",
      "user-4 -0.899229 -0.720577 -1.000000  1.000000  0.877058\n",
      "user-5 -0.824226 -0.899229 -0.866025  0.877058  1.000000\n"
     ]
    }
   ],
   "source": [
    "correlation = data_frame.T.corr();\n",
    "print(\"Pearson coefficients for Users: \")\n",
    "print(f\"{correlation}\")\n"
   ]
  },
  {
   "cell_type": "markdown",
   "id": "1833ff2a-e575-429f-b40d-8a7f24e561ba",
   "metadata": {},
   "source": [
    "## Interpret the data\n",
    "\n",
    "How do we predict the item 1 and 6 score for user3? We leverage this correlation table with the top-k closest users to user 3. For this example we will use the top-2 which based on the data above is user 1 and user 2 with correlation scores of 0.89 and 0.96 respectively. This prediction score uses the Pearson weighted average of the raw ratings of users 1 and 2. Let's calculate the prediction score of user 3 item 1 and user 3 item 6 with this information."
   ]
  },
  {
   "cell_type": "code",
   "execution_count": 105,
   "id": "d14d558a-aacb-4acb-8d2b-de86b70c2cae",
   "metadata": {},
   "outputs": [
    {
     "name": "stdout",
     "output_type": "stream",
     "text": [
      "Prediction User 3 Item 1: 6.479546404117822\n",
      "Prediction User 3 Item 6: 4.0\n"
     ]
    }
   ],
   "source": [
    "prediction_user_3_item_1 = (correlation.loc['user-3']['user-1'] * data_frame.loc['user-1']['item-1'] + correlation.loc['user-3']['user-2'] * data_frame.loc['user-2']['item-1']) / (correlation.loc['user-3']['user-1'] + correlation.loc['user-3']['user-2'])\n",
    "prediction_user_3_item_6 = (correlation.loc['user-3']['user-1'] * data_frame.loc['user-1']['item-6'] + correlation.loc['user-3']['user-2'] * data_frame.loc['user-2']['item-6']) / (correlation.loc['user-3']['user-1'] + correlation.loc['user-3']['user-2'])\n",
    "print(f\"Prediction User 3 Item 1: {prediction_user_3_item_1}\")\n",
    "print(f\"Prediction User 3 Item 6: {prediction_user_3_item_6}\")"
   ]
  },
  {
   "cell_type": "markdown",
   "id": "84c29b6c-3483-4b91-83a9-fa5da382b16d",
   "metadata": {},
   "source": [
    "## Answer\n",
    "\n",
    "There we have it the predicted scores user 3 would give to item 1 and 6 based on the top-2 closest neighbors. User 3 would give item 1 a rating of 6.48 and item 6 a rating of 4.0. However, can we do better? We can use the mean-cenetered equation to calculate a predicated rating. This includes the mean ratings of the various users. Let's look at that below"
   ]
  },
  {
   "cell_type": "code",
   "execution_count": 106,
   "id": "e1c1efeb-823f-4ffa-b5e5-0dde29aa2042",
   "metadata": {},
   "outputs": [
    {
     "name": "stdout",
     "output_type": "stream",
     "text": [
      "Means data frame\n",
      "        item-1  item-2  item-3  item-4  item-5  item-6\n",
      "user-1     1.5     0.5     1.5    -1.5    -0.5    -1.5\n",
      "user-2     1.2     2.2     NaN    -0.8    -1.8    -0.8\n",
      "user-3     NaN     1.0     1.0    -1.0    -1.0     NaN\n",
      "user-4    -1.5    -0.5    -0.5     0.5     0.5     1.5\n",
      "user-5    -1.0     NaN    -1.0     0.0     1.0     1.0\n",
      "Prediction User 3 Item 1: 3.3438639212353465\n",
      "Prediction User 3 Item 6: 0.864317517117525\n"
     ]
    }
   ],
   "source": [
    "means_data_frame = data_frame.copy().astype(float)\n",
    "user_means = means_data_frame.mean(axis=1)\n",
    "for user in means_data_frame.index:\n",
    "    means_data_frame.loc[user] = means_data_frame.loc[user].subtract(user_means[user])\n",
    "\n",
    "print(\"Means data frame\")\n",
    "print(f\"{means_data_frame}\")\n",
    "mean_prediction_user_3_item_1 = user_means['user-3'] + (correlation.loc['user-3']['user-1'] * means_data_frame.loc['user-1']['item-1'] + correlation.loc['user-3']['user-2'] * means_data_frame.loc['user-2']['item-1']) / (correlation.loc['user-3']['user-1'] + correlation.loc['user-3']['user-2'])\n",
    "mean_prediction_user_3_item_6 = user_means['user-3'] + (correlation.loc['user-3']['user-1'] * means_data_frame.loc['user-1']['item-6'] + correlation.loc['user-3']['user-2'] * means_data_frame.loc['user-2']['item-6']) / (correlation.loc['user-3']['user-1'] + correlation.loc['user-3']['user-2'])\n",
    "print(f\"Prediction User 3 Item 1: {mean_prediction_user_3_item_1}\")\n",
    "print(f\"Prediction User 3 Item 6: {mean_prediction_user_3_item_6}\")"
   ]
  },
  {
   "cell_type": "markdown",
   "id": "37c9d540-fb07-4d75-8903-c61df03d88d1",
   "metadata": {},
   "source": [
    "## Mean Weighted Average\n",
    "\n",
    "Now that we have calculated the new predictions using the mean score user 3 will give item 1 a score of ~3.34 and item 6 a score of ~0.86. Given our original data this seems more appropriate given that user 3 doesn't historically give the highest ratings. The highest rating of user 3 is 3! "
   ]
  }
 ],
 "metadata": {
  "kernelspec": {
   "display_name": "Python 3 (ipykernel)",
   "language": "python",
   "name": "python3"
  },
  "language_info": {
   "codemirror_mode": {
    "name": "ipython",
    "version": 3
   },
   "file_extension": ".py",
   "mimetype": "text/x-python",
   "name": "python",
   "nbconvert_exporter": "python",
   "pygments_lexer": "ipython3",
   "version": "3.13.2"
  }
 },
 "nbformat": 4,
 "nbformat_minor": 5
}
